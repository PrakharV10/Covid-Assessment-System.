{
  "nbformat": 4,
  "nbformat_minor": 0,
  "metadata": {
    "colab": {
      "name": "Corona Assesment System.ipynb",
      "provenance": [],
      "collapsed_sections": [],
      "authorship_tag": "ABX9TyPtQepz9XBeB/RDzLnILXGp",
      "include_colab_link": true
    },
    "kernelspec": {
      "name": "python3",
      "display_name": "Python 3"
    }
  },
  "cells": [
    {
      "cell_type": "markdown",
      "metadata": {
        "id": "view-in-github",
        "colab_type": "text"
      },
      "source": [
        "<a href=\"https://colab.research.google.com/github/PrakharV10/Covid-Assessment-System./blob/main/Corona_Assesment_System.ipynb\" target=\"_parent\"><img src=\"https://colab.research.google.com/assets/colab-badge.svg\" alt=\"Open In Colab\"/></a>"
      ]
    },
    {
      "cell_type": "markdown",
      "metadata": {
        "id": "Uxq6L9Rsi1zH"
      },
      "source": [
        "## Importing Libraries "
      ]
    },
    {
      "cell_type": "code",
      "metadata": {
        "id": "zB6_DkcXEgKp"
      },
      "source": [
        "import pandas as pd\n",
        "import matplotlib.pyplot as plt\n",
        "import requests\n",
        "import json"
      ],
      "execution_count": null,
      "outputs": []
    },
    {
      "cell_type": "markdown",
      "metadata": {
        "id": "MdJQhYUSjDk7"
      },
      "source": [
        "## World-Date Analysis"
      ]
    },
    {
      "cell_type": "markdown",
      "metadata": {
        "id": "wDImpebvjPnM"
      },
      "source": [
        "### Converting API to Dataframe:\n"
      ]
    },
    {
      "cell_type": "code",
      "metadata": {
        "id": "9t7EKzwqbhpB"
      },
      "source": [
        "url1 = \"https://covid19.mathdro.id/api/daily\"\n",
        "link1 = requests.get(url1)\n",
        "jsf = link1.json()\n",
        "world_d = pd.json_normalize(jsf)\n",
        "#world_d.head()\n"
      ],
      "execution_count": null,
      "outputs": []
    },
    {
      "cell_type": "markdown",
      "metadata": {
        "id": "Ivzqpw-Rjddf"
      },
      "source": [
        "### Plotting Data through Line charts:"
      ]
    },
    {
      "cell_type": "code",
      "metadata": {
        "id": "_aMDI_emcBmU",
        "colab": {
          "base_uri": "https://localhost:8080/",
          "height": 508
        },
        "outputId": "ce34fedc-3967-4add-86dc-e1615b6bf4ed"
      },
      "source": [
        "plt.figure(figsize =(10,8))\n",
        "plt.plot(world_d.reportDate , world_d.totalConfirmed, label = \"Infected\" , color = 'red' , linewidth = 1.0)\n",
        "plt.plot(world_d.reportDate , world_d['deaths.total'], label = 'Deaths', color = 'Blue')\n",
        "plt.plot(world_d.reportDate , world_d.totalRecovered , label = 'Recovered', color= 'Green')\n",
        "plt.xticks(world_d.reportDate[::45])\n",
        "plt.xlabel(\"Dates\")\n",
        "plt.ylabel(\"Number of cases\")\n",
        "plt.legend()\n",
        "plt.show()"
      ],
      "execution_count": null,
      "outputs": [
        {
          "output_type": "display_data",
          "data": {
            "image/png": "[encoded data removed]",
            "text/plain": [
              "<Figure size 720x576 with 1 Axes>"
            ]
          },
          "metadata": {
            "tags": [],
            "needs_background": "light"
          }
        }
      ]
    },
    {
      "cell_type": "markdown",
      "metadata": {
        "id": "GmFtgxk-jpHh"
      },
      "source": [
        "## Country Analysis System"
      ]
    },
    {
      "cell_type": "markdown",
      "metadata": {
        "id": "JyOzVLYlj0_o"
      },
      "source": [
        "### Converting API to Dataframe:"
      ]
    },
    {
      "cell_type": "code",
      "metadata": {
        "id": "xbyAB13qK22l"
      },
      "source": [
        "url = \"https://api.covid19api.com/summary\"\n",
        "link = requests.get(url)\n",
        "one = link.json()\n",
        "Alldata = pd.json_normalize(one['Countries'])\n",
        "Alldata.drop(['CountryCode','Slug','NewConfirmed','NewDeaths','NewRecovered','Date'],axis=1,inplace=True)\n",
        "#Alldata.head()"
      ],
      "execution_count": null,
      "outputs": []
    },
    {
      "cell_type": "markdown",
      "metadata": {
        "id": "ZQYjVJZwj-La"
      },
      "source": [
        "### Plotting Graphs of Desired Countries:"
      ]
    },
    {
      "cell_type": "code",
      "metadata": {
        "id": "ldNVuoZpoZ04",
        "colab": {
          "base_uri": "https://localhost:8080/",
          "height": 329
        },
        "outputId": "0442b5a5-b8ba-4a6e-fbd2-f318a4562c94"
      },
      "source": [
        "ran = int(input(\"Enter the number of countries:\"))\n",
        "plt.ylabel(\"No of cases\")\n",
        "plt.xlabel(\"Status\")\n",
        "plt.title(\"Detailed Analysis\")\n",
        "for i in range(0,ran):\n",
        "  N = input(\"Enter Name: \")\n",
        "  if( N == \"end\"):\n",
        "    break\n",
        "  else:\n",
        "    Name = N.capitalize()\n",
        "    index = int(Alldata[Alldata['Country']== Name ].index.values)\n",
        "    first= Alldata.loc[index]\n",
        "    x = ['Confirmed' , 'Recovered' , 'Deaths']\n",
        "    y = [first.TotalConfirmed, first.TotalRecovered, first.TotalDeaths]\n",
        "    plt.bar(x,y)\n",
        "    plt.show()\n",
        "  \n"
      ],
      "execution_count": null,
      "outputs": [
        {
          "output_type": "stream",
          "text": [
            "Enter the number of countries:1\n",
            "Enter Name: india\n"
          ],
          "name": "stdout"
        },
        {
          "output_type": "display_data",
          "data": {
            "image/png": "[encoded data removed]",
            "text/plain": [
              "<Figure size 432x288 with 1 Axes>"
            ]
          },
          "metadata": {
            "tags": [],
            "needs_background": "light"
          }
        }
      ]
    }
  ]
}